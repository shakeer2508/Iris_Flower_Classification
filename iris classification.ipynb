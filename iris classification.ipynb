{
 "cells": [
  {
   "cell_type": "code",
   "execution_count": 9,
   "id": "96130824-c776-4e8c-a84b-571c939bb863",
   "metadata": {},
   "outputs": [
    {
     "name": "stdout",
     "output_type": "stream",
     "text": [
      "The predicted species is: setosa\n"
     ]
    }
   ],
   "source": [
    "import numpy as np\n",
    "from sklearn import datasets\n",
    "from sklearn.neighbors import KNeighborsClassifier\n",
    "\n",
    "# Load the Iris dataset\n",
    "iris = datasets.load_iris()\n",
    "X = iris.data\n",
    "#print(X)\n",
    "y = iris.target\n",
    "# Create and train the classifier\n",
    "k = 3\n",
    "classifier = KNeighborsClassifier(n_neighbors=k)\n",
    "classifier.fit(X, y)\n",
    "\n",
    "# Input petal and sepal measurements from the user\n",
    "\"\"\"sepal_length = float(input(\"Enter sepal length (cm): \"))\n",
    "sepal_width = float(input(\"Enter sepal width (cm): \"))\n",
    "petal_length = float(input(\"Enter petal length (cm): \"))\n",
    "petal_width = float(input(\"Enter petal width (cm): \"))\"\"\"\n",
    "\n",
    "#for example sample input\n",
    "sepal_length =5.1 \n",
    "sepal_width = 3.5\n",
    "petal_length =  1.4\n",
    "petal_width =  0.2\n",
    "# Make a prediction based on user input\n",
    "user_data = np.array([[sepal_length, sepal_width, petal_length, petal_width]])\n",
    "prediction = classifier.predict(user_data)\n",
    "\n",
    "# Map the predicted class to the species name\n",
    "species = iris.target_names[prediction[0]]\n",
    "\n",
    "print(f\"The predicted species is: {species}\")\n"
   ]
  }
 ],
 "metadata": {
  "kernelspec": {
   "display_name": "Python 3 (ipykernel)",
   "language": "python",
   "name": "python3"
  },
  "language_info": {
   "codemirror_mode": {
    "name": "ipython",
    "version": 3
   },
   "file_extension": ".py",
   "mimetype": "text/x-python",
   "name": "python",
   "nbconvert_exporter": "python",
   "pygments_lexer": "ipython3",
   "version": "3.11.5"
  }
 },
 "nbformat": 4,
 "nbformat_minor": 5
}
